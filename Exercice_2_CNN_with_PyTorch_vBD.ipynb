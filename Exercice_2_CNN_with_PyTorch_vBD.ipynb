{
 "cells": [
  {
   "cell_type": "markdown",
   "metadata": {},
   "source": [
    "## Exercise 2: inspired by: https://www.kaggle.com/sdelecourt/cnn-with-pytorch-for-mnist\n",
    "\n",
    "The goal of this exercise is to implement and compare three different neural networks. On the contrary to the first exercise, we will use the PyTorch library to implement the networks.\n",
    "\n",
    "### Guidelines:\n",
    "\n",
    "This is a notebook to be *completed* and *commented*. The parts to be edited are indicated by a TO DO; the expected number of lines of code is given as an indication. The networks are already implemented, you just have to play with them. No knowledge of PyTorch is required, check the already implemented code to understand the specific functions.\n",
    "\n",
    "### Send your work:\n",
    "\n",
    "At the end of the session, you should individually send the completed Notebook by email at lucas.de-lara@polytechnique.edu."
   ]
  },
  {
   "cell_type": "code",
   "execution_count": 4,
   "metadata": {},
   "outputs": [],
   "source": [
    "import numpy as np # to handle matrix and data operation\n",
    "import matplotlib.pyplot as plt   #image visualisation\n",
    "\n",
    "import torch\n",
    "import torch.nn as nn\n",
    "import torch.nn.functional as F\n",
    "import torch.utils.data\n",
    "from torch.autograd import Variable"
   ]
  },
  {
   "cell_type": "markdown",
   "metadata": {},
   "source": [
    "# 1) Load and treat the data\n",
    "\n",
    "## 1.1) Load\n",
    "\n",
    "The first value is the \"label\", that is, the actual digit that the handwriting is supposed to represent, such as a \"7\" or a \"9\". It is the answer to which the neural network is aspiring to classify.\n",
    "The subsequent values, all comma separated, are the pixel values of the handwritten digit. The size of the pixel array is 28 by 28, so there are 784 values after the label."
   ]
  },
  {
   "cell_type": "code",
   "execution_count": 5,
   "metadata": {},
   "outputs": [
    {
     "name": "stdout",
     "output_type": "stream",
     "text": [
      "(25000, 784)\n",
      "(25000, 1)\n",
      "(10000, 784)\n",
      "(10000, 1)\n"
     ]
    }
   ],
   "source": [
    "train=np.genfromtxt('mnist_train.csv',delimiter=',')\n",
    "test=np.genfromtxt('mnist_test.csv',delimiter=',')\n",
    "\n",
    "#1.2) treat the initial data in numpy\n",
    "X_train=train[1:,1:]\n",
    "y_train=train[1:,0].reshape((X_train.shape[0],1)).astype(np.int)\n",
    "\n",
    "X_test=test[1:,1:]\n",
    "y_test=test[1:,0].reshape((X_test.shape[0],1)).astype(np.int)\n",
    "\n",
    "print(X_train.shape)\n",
    "print(y_train.shape)\n",
    "print(X_test.shape)\n",
    "print(y_test.shape)"
   ]
  },
  {
   "cell_type": "markdown",
   "metadata": {},
   "source": [
    "## 1.2) Define a function to visualize an observation and use it"
   ]
  },
  {
   "cell_type": "code",
   "execution_count": 6,
   "metadata": {},
   "outputs": [
    {
     "data": {
      "image/png": "[encoded data removed]",
      "text/plain": [
       "<Figure size 432x288 with 1 Axes>"
      ]
     },
     "metadata": {
      "needs_background": "light"
     },
     "output_type": "display_data"
    },
    {
     "data": {
      "image/png": "[encoded data removed]",
      "text/plain": [
       "<Figure size 432x288 with 1 Axes>"
      ]
     },
     "metadata": {
      "needs_background": "light"
     },
     "output_type": "display_data"
    },
    {
     "data": {
      "image/png": "[encoded data removed]",
      "text/plain": [
       "<Figure size 432x288 with 1 Axes>"
      ]
     },
     "metadata": {
      "needs_background": "light"
     },
     "output_type": "display_data"
    },
    {
     "data": {
      "image/png": "[encoded data removed]",
      "text/plain": [
       "<Figure size 432x288 with 1 Axes>"
      ]
     },
     "metadata": {
      "needs_background": "light"
     },
     "output_type": "display_data"
    }
   ],
   "source": [
    "def ShowMNISTObservation(X_data,y_data,obsNb=0):\n",
    "    plt.clf()\n",
    "    plt.imshow(X_data[obsNb,:].reshape((28,28)))\n",
    "    plt.title('Observation '+str(obsNb)+': Label '+str((y_data[obsNb,0])))\n",
    "    plt.show()\n",
    "\n",
    "ShowMNISTObservation(X_train,y_train,0)\n",
    "ShowMNISTObservation(X_train,y_train,1)\n",
    "ShowMNISTObservation(X_test,y_test,0)\n",
    "ShowMNISTObservation(X_test,y_test,1)"
   ]
  },
  {
   "cell_type": "markdown",
   "metadata": {},
   "source": [
    "## 1.3) Convert the numpy array as torch tensor (equivalent structures but used by pytorch)"
   ]
  },
  {
   "cell_type": "code",
   "execution_count": 7,
   "metadata": {},
   "outputs": [],
   "source": [
    "torch_X_train = torch.from_numpy(X_train).type(torch.LongTensor)\n",
    "torch_y_train = torch.from_numpy(y_train).type(torch.LongTensor) # data type is long (i.e. 64bit)\n",
    "\n",
    "torch_X_test = torch.from_numpy(X_test).type(torch.LongTensor)\n",
    "torch_y_test = torch.from_numpy(y_test).type(torch.LongTensor) # data type is long"
   ]
  },
  {
   "cell_type": "markdown",
   "metadata": {},
   "source": [
    "QUESTION 1: Understand well what are the data of this machine learning problem. \n",
    "            May you solve this problem using SVM, linear regression, random forests \n",
    "            or K-means?\n",
    "            \n",
    "Il s'agit d'un problème de classification multi-classes. On peut utiliser SVM et Random Forest - par exemple avec la bibliothèque scikit.learn, avec les options one-vs-rest ou one-vs-one, etc.\n",
    "La regression linéaire n'est pas adaptée (variable catégorielle en sortie, pas continue)\n",
    "Le K-means est du clustering non supervisé, pas adapté non plus."
   ]
  },
  {
   "cell_type": "markdown",
   "metadata": {},
   "source": [
    "#TO DO: write a very few lines to answer this question."
   ]
  },
  {
   "cell_type": "markdown",
   "metadata": {},
   "source": [
    "# 2) Define three classes of neural networks"
   ]
  },
  {
   "cell_type": "code",
   "execution_count": 8,
   "metadata": {},
   "outputs": [
    {
     "name": "stdout",
     "output_type": "stream",
     "text": [
      "MLP(\n",
      "  (linear1): Linear(in_features=784, out_features=250, bias=True)\n",
      "  (linear2): Linear(in_features=250, out_features=100, bias=True)\n",
      "  (linear3): Linear(in_features=100, out_features=10, bias=True)\n",
      ")\n",
      "CNN(\n",
      "  (conv1): Conv2d(1, 6, kernel_size=(3, 3), stride=(1, 1), padding=(1, 1))\n",
      "  (pool): MaxPool2d(kernel_size=2, stride=2, padding=0, dilation=1, ceil_mode=False)\n",
      "  (fc1): Linear(in_features=1176, out_features=64, bias=True)\n",
      "  (fc2): Linear(in_features=64, out_features=10, bias=True)\n",
      ")\n",
      "CNN2(\n",
      "  (conv1): Conv2d(1, 6, kernel_size=(3, 3), stride=(1, 1), padding=(1, 1))\n",
      "  (conv2): Conv2d(6, 6, kernel_size=(3, 3), stride=(1, 1), padding=(1, 1))\n",
      "  (conv3): Conv2d(6, 6, kernel_size=(3, 3), stride=(1, 1), padding=(1, 1))\n",
      "  (pool): MaxPool2d(kernel_size=2, stride=2, padding=0, dilation=1, ceil_mode=False)\n",
      "  (fc1): Linear(in_features=294, out_features=64, bias=True)\n",
      "  (fc2): Linear(in_features=64, out_features=10, bias=True)\n",
      ")\n"
     ]
    }
   ],
   "source": [
    "class MLP(nn.Module):\n",
    "    \"\"\"\n",
    "    Multi-layer perceptron adapted to the inputs images having 784 pixels\n",
    "    and the output labels having 10 possible values (0,1,...,9)\n",
    "    \"\"\"\n",
    "    def __init__(self):\n",
    "        super(MLP, self).__init__()\n",
    "        self.linear1 = nn.Linear(784,250)\n",
    "        self.linear2 = nn.Linear(250,100)\n",
    "        self.linear3 = nn.Linear(100,10)\n",
    "\n",
    "    def forward(self,X):\n",
    "        X = X.view(-1,784)\n",
    "        X = F.relu(self.linear1(X))\n",
    "        X = F.relu(self.linear2(X))\n",
    "        X = self.linear3(X)\n",
    "        return F.log_softmax(X, dim=1)\n",
    "\n",
    "mlp = MLP()\n",
    "print(mlp)\n",
    "\n",
    "\n",
    "class CNN(nn.Module):\n",
    "    \"\"\"\n",
    "    Basic convolutional neural network\n",
    "    \"\"\"\n",
    "    \n",
    "    #Our batch shape for input x is (1, 28, 28)\n",
    "    \n",
    "    def __init__(self):\n",
    "        super(CNN, self).__init__()\n",
    "        \n",
    "        #Input channels = 1, output channels = 6\n",
    "        self.conv1 = nn.Conv2d(1, 6, kernel_size=3, stride=1, padding=1)\n",
    "        \n",
    "        self.pool = nn.MaxPool2d(kernel_size=2, stride=2, padding=0)\n",
    "        \n",
    "        #1536 input features, 64 output features (see sizing flow below)\n",
    "        self.fc1 = nn.Linear(6 * 14 * 14, 64)\n",
    "        \n",
    "        #64 input features, 10 output features for our 10 defined classes\n",
    "        self.fc2 = nn.Linear(64, 10)\n",
    "        \n",
    "    def forward(self, x):\n",
    "        \n",
    "        #Computes the activation of the first convolution\n",
    "        #Size changes from (1, 28, 28) to (6, 28, 28)\n",
    "        x = F.relu(self.conv1(x))\n",
    "        \n",
    "        #Size changes from (6, 28, 28) to (6, 14, 14)\n",
    "        x = self.pool(x)\n",
    "        \n",
    "        #Reshape data to input to the input layer of the neural net\n",
    "        #Size changes from (6, 14, 14) to (1, 1176)\n",
    "        #Recall that the -1 infers this dimension from the other given dimension\n",
    "        x = x.view(-1, 6 * 14 *14)\n",
    "        \n",
    "        #Computes the activation of the first fully connected layer\n",
    "        #Size changes from (1, 1176) to (1, 64)\n",
    "        x = F.relu(self.fc1(x))\n",
    "        \n",
    "        #Computes the second fully connected layer (activation applied later)\n",
    "        #Size changes from (1, 64) to (1, 10)\n",
    "        x = self.fc2(x)\n",
    "        \n",
    "        return(x)\n",
    "\n",
    "\n",
    "cnn = CNN()\n",
    "print(cnn)\n",
    "\n",
    "\n",
    "class CNN2(nn.Module):\n",
    "    \"\"\"\n",
    "    Deeper convolutional neural network than CNN\n",
    "    \"\"\"\n",
    "    \n",
    "    #Our batch shape for input x is (1, 28, 28)\n",
    "    \n",
    "    def __init__(self):\n",
    "        super(CNN2, self).__init__()\n",
    "        \n",
    "        #Input channels = 1, output channels = 6\n",
    "        self.conv1 = nn.Conv2d(1, 6, kernel_size=3, stride=1, padding=1)\n",
    "        self.conv2 = nn.Conv2d(6, 6, kernel_size=3, stride=1, padding=1)\n",
    "        self.conv3 = nn.Conv2d(6, 6, kernel_size=3, stride=1, padding=1)\n",
    "        \n",
    "        self.pool = nn.MaxPool2d(kernel_size=2, stride=2, padding=0)\n",
    "        \n",
    "        #1536 input features, 64 output features (see sizing flow below)\n",
    "        self.fc1 = nn.Linear(6 * 7 * 7, 64)\n",
    "        \n",
    "        #64 input features, 10 output features for our 10 defined classes\n",
    "        self.fc2 = nn.Linear(64, 10)\n",
    "        \n",
    "    def forward(self, x):\n",
    "        \n",
    "        #Computes the activation of the first convolution\n",
    "        #Size changes from (1, 28, 28) to (6, 28, 28)\n",
    "        x = F.relu(self.conv1(x))\n",
    "        \n",
    "        #Size changes from (6, 28, 28) to (6, 14, 14)\n",
    "        x = self.pool(x)\n",
    "        \n",
    "        #convolution on the 6x14x14 image\n",
    "        x = F.relu(self.conv2(x))\n",
    "        \n",
    "        #Size changes from (6, 14, 14) to (6, 7, 7)\n",
    "        x = self.pool(x)\n",
    "\n",
    "        #convolution on the 6x7x7 image\n",
    "        x = F.relu(self.conv3(x))\n",
    "        \n",
    "        #Reshape data to input to the input layer of the neural net\n",
    "        #Size changes from (6, 7, 7) to (1, 294)\n",
    "        #Recall that the -1 infers this dimension from the other given dimension\n",
    "        x = x.view(-1, 6 * 7 *7)\n",
    "        \n",
    "        #Computes the activation of the first fully connected layer\n",
    "        #Size changes from (1, 294) to (1, 64)\n",
    "        x = F.relu(self.fc1(x))\n",
    "        \n",
    "        #Computes the second fully connected layer (activation applied later)\n",
    "        #Size changes from (1, 64) to (1, 10)\n",
    "        x = self.fc2(x)\n",
    "        \n",
    "        return(x)\n",
    "\n",
    "\n",
    "cnn2 = CNN2()\n",
    "print(cnn2)"
   ]
  },
  {
   "cell_type": "markdown",
   "metadata": {},
   "source": [
    "# 3) Function to fit the network"
   ]
  },
  {
   "cell_type": "code",
   "execution_count": 9,
   "metadata": {},
   "outputs": [],
   "source": [
    "def fit(model,X_data,y_data, EPOCHS = 5, BATCH_SIZE = 32, frequencySvg=50):\n",
    "    \n",
    "    optimizer = torch.optim.Adam(model.parameters())#,lr=0.001, betas=(0.9,0.999))\n",
    "    error = nn.CrossEntropyLoss()\n",
    "    model.train()\n",
    "    \n",
    "    n=X_data.shape[0]\n",
    "    \n",
    "    List_PrctGoodPredict=[]\n",
    "    \n",
    "    for epoch in range(EPOCHS):\n",
    "        \n",
    "        batch_start=0\n",
    "        batchNb=0\n",
    "        \n",
    "        while batch_start+BATCH_SIZE < n:\n",
    "            \n",
    "            #stochastic gradient descent iteration\n",
    "            var_X_batch = Variable(X_data[batch_start:batch_start+BATCH_SIZE,:].view(-1,1,28,28)).float()\n",
    "            var_y_batch = Variable(y_data[batch_start:batch_start+BATCH_SIZE,0])\n",
    "            optimizer.zero_grad()\n",
    "            output = model(var_X_batch)\n",
    "            loss = error(output, var_y_batch)\n",
    "            loss.backward()\n",
    "            optimizer.step()\n",
    "            \n",
    "            #update the first observation of the batch\n",
    "            batch_start+=BATCH_SIZE\n",
    "            batchNb+=1\n",
    "            \n",
    "            # Total correct predictions\n",
    "            predicted = torch.max(output.data, 1)[1]\n",
    "            \n",
    "            PrctGoodPredict = (100./BATCH_SIZE)*float((predicted == var_y_batch.view(-1)).sum())\n",
    "\n",
    "            if batchNb%frequencySvg==0:\n",
    "                print(\"epoch=\"+str(epoch)+\" -- batch start=\"+str(batch_start)+\" -> Prct good predictions=\"+str(PrctGoodPredict))\n",
    "                \n",
    "            List_PrctGoodPredict.append(PrctGoodPredict)\n",
    "    \n",
    "    return List_PrctGoodPredict"
   ]
  },
  {
   "cell_type": "markdown",
   "metadata": {},
   "source": [
    "# 4) Train the networks"
   ]
  },
  {
   "cell_type": "code",
   "execution_count": 10,
   "metadata": {},
   "outputs": [
    {
     "name": "stdout",
     "output_type": "stream",
     "text": [
      "MLP Train\n",
      "epoch=0 -- batch start=5000 -> Prct good predictions=90.0\n",
      "epoch=0 -- batch start=10000 -> Prct good predictions=90.0\n",
      "epoch=0 -- batch start=15000 -> Prct good predictions=94.0\n",
      "epoch=0 -- batch start=20000 -> Prct good predictions=96.0\n",
      "epoch=1 -- batch start=5000 -> Prct good predictions=97.0\n",
      "epoch=1 -- batch start=10000 -> Prct good predictions=96.0\n",
      "epoch=1 -- batch start=15000 -> Prct good predictions=96.0\n",
      "epoch=1 -- batch start=20000 -> Prct good predictions=98.0\n",
      "MLP CNN\n",
      "epoch=0 -- batch start=5000 -> Prct good predictions=92.0\n",
      "epoch=0 -- batch start=10000 -> Prct good predictions=93.0\n",
      "epoch=0 -- batch start=15000 -> Prct good predictions=90.0\n",
      "epoch=0 -- batch start=20000 -> Prct good predictions=95.0\n",
      "epoch=1 -- batch start=5000 -> Prct good predictions=94.0\n",
      "epoch=1 -- batch start=10000 -> Prct good predictions=100.0\n",
      "epoch=1 -- batch start=15000 -> Prct good predictions=98.0\n",
      "epoch=1 -- batch start=20000 -> Prct good predictions=98.0\n",
      "MLP CNN2\n",
      "epoch=0 -- batch start=5000 -> Prct good predictions=90.0\n",
      "epoch=0 -- batch start=10000 -> Prct good predictions=95.0\n",
      "epoch=0 -- batch start=15000 -> Prct good predictions=90.0\n",
      "epoch=0 -- batch start=20000 -> Prct good predictions=94.0\n",
      "epoch=1 -- batch start=5000 -> Prct good predictions=95.0\n",
      "epoch=1 -- batch start=10000 -> Prct good predictions=100.0\n",
      "epoch=1 -- batch start=15000 -> Prct good predictions=97.0\n",
      "epoch=1 -- batch start=20000 -> Prct good predictions=99.0\n"
     ]
    }
   ],
   "source": [
    "print(\"MLP Train\")\n",
    "mlp = MLP()\n",
    "List_PrctGoodPredict_MLP=fit(mlp,torch_X_train,torch_y_train,EPOCHS=2,BATCH_SIZE = 100)\n",
    "\n",
    "print(\"MLP CNN\")\n",
    "cnn = CNN()\n",
    "List_PrctGoodPredict_CNN=fit(cnn,torch_X_train,torch_y_train,EPOCHS=2,BATCH_SIZE = 100)\n",
    "\n",
    "print(\"MLP CNN2\")\n",
    "cnn2 = CNN2()\n",
    "List_PrctGoodPredict_CNN2=fit(cnn2,torch_X_train,torch_y_train,EPOCHS=2,BATCH_SIZE = 100)"
   ]
  },
  {
   "cell_type": "markdown",
   "metadata": {},
   "source": [
    "# 5) Check the results"
   ]
  },
  {
   "cell_type": "code",
   "execution_count": 11,
   "metadata": {},
   "outputs": [
    {
     "data": {
      "image/png": "[encoded data removed]",
      "text/plain": [
       "<Figure size 432x288 with 1 Axes>"
      ]
     },
     "metadata": {
      "needs_background": "light"
     },
     "output_type": "display_data"
    }
   ],
   "source": [
    "plt.plot(List_PrctGoodPredict_MLP,'b')\n",
    "plt.plot(List_PrctGoodPredict_CNN,'r')\n",
    "plt.plot(List_PrctGoodPredict_CNN2,'g')\n",
    "plt.xlabel('Iterations (/50)')\n",
    "plt.ylabel('Prct good predictions')\n",
    "plt.show()"
   ]
  },
  {
   "cell_type": "markdown",
   "metadata": {},
   "source": [
    "QUESTION 2: Fully understand and play the code. What is the main difference between\n",
    "            the structure of the three networks. Does it seem to have an impact on\n",
    "            the results?\n",
    "            \n",
    "MLP est un 'multi-layer perceptron' avec 3 layers denses qui amènent à une fonction softmax en sortie.\n",
    "\n",
    "CNN est un premier réseau convolutionnel, avec une layer de conv2D en entrée : 6 kernels 3x3 balayent l'image en entrée et convoluent. Il y a ensuite une layer de maxpooling qui réduit la taille de l'image par quatre, puis deux layers denses et la sortie softmax.\n",
    "\n",
    "CNN2, par rapport à CNN, a trois layers de convolution en premières couches, puis un maxpooling et deux layers denses et la sortie softmax. L'idée des convolution successives est de 'capturer' des patterns dans l'image, spécifiques à chaque classe, pour permttre au softmax de classifier avec une meilleure performance."
   ]
  },
  {
   "cell_type": "markdown",
   "metadata": {},
   "source": [
    "#TO DO: write a few lines to comment on the structure of the three networks."
   ]
  },
  {
   "cell_type": "code",
   "execution_count": 12,
   "metadata": {},
   "outputs": [
    {
     "name": "stdout",
     "output_type": "stream",
     "text": [
      "Performance MLP sur le training set =  100.0 %\n",
      "Performance CNN sur le training set =  100.0 %\n",
      "Performance CNN2 sur le training set =  100.0 %\n"
     ]
    }
   ],
   "source": [
    "print(\"Performance MLP sur le training set = \", max(List_PrctGoodPredict_MLP),\"%\")\n",
    "print(\"Performance CNN sur le training set = \", max(List_PrctGoodPredict_CNN),\"%\")\n",
    "print(\"Performance CNN2 sur le training set = \", max(List_PrctGoodPredict_CNN2),'%')"
   ]
  },
  {
   "cell_type": "markdown",
   "metadata": {},
   "source": [
    "#TO DO: write a few lines to comment on the result."
   ]
  },
  {
   "cell_type": "markdown",
   "metadata": {},
   "source": [
    "100% sur un training set dénote la plupart du temps un overfitting prononcé.\n",
    "Il faut absolument mesurer la capacité à généraliser sur le test set."
   ]
  },
  {
   "cell_type": "markdown",
   "metadata": {},
   "source": [
    "QUESTION 3: Measure the percentages of good predictions on the test set. Which network\n",
    "            has the best generalization properties here?"
   ]
  },
  {
   "cell_type": "code",
   "execution_count": 13,
   "metadata": {
    "scrolled": true
   },
   "outputs": [],
   "source": [
    "#TO DO: compute the percentages for the three networks and print them.\n",
    "#You can get inspiration from the fit function. (15 lines expected)"
   ]
  },
  {
   "cell_type": "code",
   "execution_count": 14,
   "metadata": {},
   "outputs": [
    {
     "data": {
      "text/plain": [
       "torch.Size([10000, 784])"
      ]
     },
     "execution_count": 14,
     "metadata": {},
     "output_type": "execute_result"
    }
   ],
   "source": [
    "torch_X_test.shape"
   ]
  },
  {
   "cell_type": "code",
   "execution_count": 15,
   "metadata": {},
   "outputs": [
    {
     "name": "stdout",
     "output_type": "stream",
     "text": [
      "Performance du  MLP sur le test set =  93.61  %\n",
      "Performance du  CNN sur le test set =  95.81  %\n",
      "Performance du  CNN2 sur le test set =  96.86  %\n"
     ]
    }
   ],
   "source": [
    "models = [mlp, cnn,cnn2]\n",
    "noms = ['MLP','CNN','CNN2']\n",
    "List_PrctGoodPredict=[]\n",
    "\n",
    "for nom,model in zip(noms,models):\n",
    "    \n",
    "    good_X_test = Variable(torch_X_test.view(-1,1,28,28)).float()\n",
    "    y_pred = model(good_X_test)\n",
    "    \n",
    "    predicted = torch.max(y_pred.data, 1)[1]\n",
    "    PrctGoodPredict = (100./torch_X_test.shape[0])*float((predicted == torch_y_test.view(-1)).sum())\n",
    "    \n",
    "    print(\"Performance du \",nom,\"sur le test set = \",PrctGoodPredict,\" %\") "
   ]
  },
  {
   "cell_type": "markdown",
   "metadata": {},
   "source": [
    "#TO DO: write a few lines to comment on the results.\n",
    "\n",
    "Les résultats de généralisation sont bons ! Le CNN2 performe à ~97% d'accuracy."
   ]
  },
  {
   "cell_type": "markdown",
   "metadata": {},
   "source": [
    "QUESTION 4: Run the code on the 'mnist_train_100.csv' dataset, which has only\n",
    "           100 observations instead of 60000! Do you manage to have good results\n",
    "            on the test set?"
   ]
  },
  {
   "cell_type": "code",
   "execution_count": 19,
   "metadata": {
    "scrolled": false
   },
   "outputs": [
    {
     "name": "stdout",
     "output_type": "stream",
     "text": [
      "\n",
      "----- modèle :  MLP ---------\n",
      "training\n",
      "performance sur training set =  100.0  %\n",
      "----- test set -------\n",
      "Performance du  MLP sur le test set =  64.36  %\n",
      "\n",
      "----- modèle :  CNN ---------\n",
      "training\n",
      "performance sur training set =  100.0  %\n",
      "----- test set -------\n",
      "Performance du  CNN sur le test set =  64.66  %\n",
      "\n",
      "----- modèle :  CNN2 ---------\n",
      "training\n",
      "performance sur training set =  100.0  %\n",
      "----- test set -------\n",
      "Performance du  CNN2 sur le test set =  67.03  %\n"
     ]
    }
   ],
   "source": [
    "#load data\n",
    "train=np.genfromtxt('./mnist_train_100.csv',delimiter=',')\n",
    "\n",
    "X_train_short=train[1:,1:]\n",
    "y_train_short=train[1:,0].reshape((X_train_short.shape[0],1)).astype(np.int)\n",
    "\n",
    "torch_X_train_short = torch.from_numpy(X_train_short).type(torch.LongTensor)\n",
    "torch_y_train_short = torch.from_numpy(y_train_short).type(torch.LongTensor) # data type is long (i.e. 64bit)\n",
    "\n",
    "mlp_short = MLP()\n",
    "cnn_short = CNN()\n",
    "cnn2_short = CNN2()\n",
    "\n",
    "models = [mlp_short, cnn_short, cnn2_short]\n",
    "noms = ['MLP','CNN','CNN2']\n",
    "good_X_test = Variable(torch_X_test.view(-1,1,28,28)).float()\n",
    "\n",
    "BATCH_SIZE = 5\n",
    "\n",
    "for nom, model in zip(noms, models):\n",
    "    \n",
    "    print (\"\")\n",
    "    print (\"----- modèle : \", nom, \"---------\")\n",
    "    print (\"training\")\n",
    "    List_PrctGoodPredict=fit(model,torch_X_train_short,torch_y_train_short,EPOCHS=100,BATCH_SIZE = 5)\n",
    "    print (\"performance sur training set = \",max(List_PrctGoodPredict),\" %\")\n",
    "    \n",
    "    print (\"----- test set -------\")\n",
    "    y_pred = model(good_X_test)\n",
    "    predicted = torch.max(y_pred.data, 1)[1]\n",
    "    PrctGoodPredict = (100./torch_X_test.shape[0])*float((predicted == torch_y_test.view(-1)).sum())\n",
    "    print(\"Performance du \",nom,\"sur le test set = \",PrctGoodPredict,\" %\")"
   ]
  },
  {
   "cell_type": "markdown",
   "metadata": {},
   "source": [
    "#TO DO: comment on the results.\n",
    "\n",
    "Les réseaux overfittent clairement sur le petit training set ; la généralisation est mauvaise"
   ]
  },
  {
   "cell_type": "markdown",
   "metadata": {},
   "source": [
    "QUESTION 5: Adapt the MLP network to the IRIS dataset. Can you have better results \n",
    "            than by using a linear SVM classifier?"
   ]
  },
  {
   "cell_type": "code",
   "execution_count": 33,
   "metadata": {},
   "outputs": [
    {
     "name": "stdout",
     "output_type": "stream",
     "text": [
      "X shape: (150, 4)\n",
      "y shape: (150,)\n"
     ]
    }
   ],
   "source": [
    "from sklearn import datasets\n",
    "iris = datasets.load_iris()\n",
    "X = iris.data\n",
    "y = iris.target\n",
    "\n",
    "from sklearn import svm\n",
    "clf = svm.SVC()\n",
    "\n",
    "print('X shape: '+str(X.shape))\n",
    "print('y shape: '+str(y.shape))"
   ]
  },
  {
   "cell_type": "code",
   "execution_count": 34,
   "metadata": {},
   "outputs": [],
   "source": [
    "from sklearn.model_selection import train_test_split\n",
    "\n",
    "X_train, X_test, y_train, y_test = train_test_split(X, \n",
    "                                                    y, \n",
    "                                                    test_size=0.2, \n",
    "                                                    random_state=42)"
   ]
  },
  {
   "cell_type": "code",
   "execution_count": 35,
   "metadata": {},
   "outputs": [],
   "source": [
    "torch_X_train = torch.from_numpy(X_train).type(torch.LongTensor)\n",
    "torch_y_train = torch.from_numpy(y_train).type(torch.LongTensor) # data type is long (i.e. 64bit)\n",
    "\n",
    "torch_X_test = torch.from_numpy(X_test).type(torch.LongTensor)\n",
    "torch_y_test = torch.from_numpy(y_test).type(torch.LongTensor) # data type is long"
   ]
  },
  {
   "cell_type": "code",
   "execution_count": 36,
   "metadata": {},
   "outputs": [],
   "source": [
    "class MLP2(nn.Module):\n",
    "    \n",
    "    # Adaptation au IRIS data set : 150 observations de taille 4 x 1 chacune\n",
    "    # et 3 labels possibles\n",
    "\n",
    "    def __init__(self):\n",
    "        super(MLP2, self).__init__()\n",
    "        self.linear1 = nn.Linear(4,250)\n",
    "        self.linear2 = nn.Linear(250,100)\n",
    "        self.linear3 = nn.Linear(100,3)\n",
    "\n",
    "    def forward(self,X):\n",
    "        X = X.view(-1,4)\n",
    "        X = F.relu(self.linear1(X))\n",
    "        X = F.relu(self.linear2(X))\n",
    "        X = self.linear3(X)\n",
    "        return F.log_softmax(X, dim=1)"
   ]
  },
  {
   "cell_type": "code",
   "execution_count": 58,
   "metadata": {},
   "outputs": [],
   "source": [
    "def fit2(model,X_data,y_data, EPOCHS = 5, BATCH_SIZE = 32, frequencySvg=1):\n",
    "    \n",
    "    optimizer = torch.optim.Adam(model.parameters())#,lr=0.001, betas=(0.9,0.999))\n",
    "    error = nn.CrossEntropyLoss()\n",
    "    model.train()\n",
    "    \n",
    "    n=X_data.shape[0]\n",
    "    \n",
    "    List_PrctGoodPredict=[]\n",
    "    \n",
    "    for epoch in range(EPOCHS):\n",
    "        \n",
    "        batch_start=0\n",
    "        batchNb=0\n",
    "        \n",
    "        while batch_start+BATCH_SIZE < n:\n",
    "            \n",
    "            #stochastic gradient descent iteration\n",
    "            var_X_batch = Variable(X_data[batch_start:batch_start+BATCH_SIZE,:]).view(-1,1,4,1).float()\n",
    "            var_y_batch = Variable(y_data[batch_start:batch_start+BATCH_SIZE])\n",
    "            optimizer.zero_grad()\n",
    "            output = model(var_X_batch)\n",
    "            loss = error(output, var_y_batch)\n",
    "            loss.backward()\n",
    "            optimizer.step()\n",
    "            \n",
    "            #update the first observation of the batch\n",
    "            batch_start+=BATCH_SIZE\n",
    "            batchNb+=1\n",
    "            \n",
    "            # Total correct predictions\n",
    "            predicted = torch.max(output.data, 1)[1]\n",
    "            \n",
    "            PrctGoodPredict = (100./BATCH_SIZE)*float((predicted == var_y_batch.view(-1)).sum())\n",
    "\n",
    "            if batchNb%frequencySvg==0:\n",
    "                print(\"epoch=\"+str(epoch)+\" -- batch start=\"+str(batch_start)+\" -> Prct good predictions=\"+str(PrctGoodPredict))\n",
    "                \n",
    "            List_PrctGoodPredict.append(PrctGoodPredict)\n",
    "    \n",
    "    return List_PrctGoodPredict"
   ]
  },
  {
   "cell_type": "code",
   "execution_count": 61,
   "metadata": {},
   "outputs": [
    {
     "name": "stdout",
     "output_type": "stream",
     "text": [
      "MLP Train for IRIS\n",
      "epoch=0 -- batch start=10 -> Prct good predictions=10.0\n",
      "epoch=0 -- batch start=20 -> Prct good predictions=60.0\n",
      "epoch=0 -- batch start=30 -> Prct good predictions=60.0\n",
      "epoch=0 -- batch start=40 -> Prct good predictions=80.0\n",
      "epoch=0 -- batch start=50 -> Prct good predictions=60.0\n",
      "epoch=0 -- batch start=60 -> Prct good predictions=80.0\n",
      "epoch=0 -- batch start=70 -> Prct good predictions=50.0\n",
      "epoch=0 -- batch start=80 -> Prct good predictions=70.0\n",
      "epoch=0 -- batch start=90 -> Prct good predictions=60.0\n",
      "epoch=0 -- batch start=100 -> Prct good predictions=60.0\n",
      "epoch=0 -- batch start=110 -> Prct good predictions=80.0\n",
      "epoch=1 -- batch start=10 -> Prct good predictions=80.0\n",
      "epoch=1 -- batch start=20 -> Prct good predictions=60.0\n",
      "epoch=1 -- batch start=30 -> Prct good predictions=60.0\n",
      "epoch=1 -- batch start=40 -> Prct good predictions=70.0\n",
      "epoch=1 -- batch start=50 -> Prct good predictions=60.0\n",
      "epoch=1 -- batch start=60 -> Prct good predictions=70.0\n",
      "epoch=1 -- batch start=70 -> Prct good predictions=70.0\n",
      "epoch=1 -- batch start=80 -> Prct good predictions=80.0\n",
      "epoch=1 -- batch start=90 -> Prct good predictions=50.0\n",
      "epoch=1 -- batch start=100 -> Prct good predictions=50.0\n",
      "epoch=1 -- batch start=110 -> Prct good predictions=80.0\n",
      "epoch=2 -- batch start=10 -> Prct good predictions=100.0\n",
      "epoch=2 -- batch start=20 -> Prct good predictions=100.0\n",
      "epoch=2 -- batch start=30 -> Prct good predictions=70.0\n",
      "epoch=2 -- batch start=40 -> Prct good predictions=70.0\n",
      "epoch=2 -- batch start=50 -> Prct good predictions=80.0\n",
      "epoch=2 -- batch start=60 -> Prct good predictions=90.0\n",
      "epoch=2 -- batch start=70 -> Prct good predictions=90.0\n",
      "epoch=2 -- batch start=80 -> Prct good predictions=100.0\n",
      "epoch=2 -- batch start=90 -> Prct good predictions=80.0\n",
      "epoch=2 -- batch start=100 -> Prct good predictions=70.0\n",
      "epoch=2 -- batch start=110 -> Prct good predictions=80.0\n",
      "epoch=3 -- batch start=10 -> Prct good predictions=100.0\n",
      "epoch=3 -- batch start=20 -> Prct good predictions=100.0\n",
      "epoch=3 -- batch start=30 -> Prct good predictions=70.0\n",
      "epoch=3 -- batch start=40 -> Prct good predictions=70.0\n",
      "epoch=3 -- batch start=50 -> Prct good predictions=70.0\n",
      "epoch=3 -- batch start=60 -> Prct good predictions=80.0\n",
      "epoch=3 -- batch start=70 -> Prct good predictions=80.0\n",
      "epoch=3 -- batch start=80 -> Prct good predictions=100.0\n",
      "epoch=3 -- batch start=90 -> Prct good predictions=90.0\n",
      "epoch=3 -- batch start=100 -> Prct good predictions=90.0\n",
      "epoch=3 -- batch start=110 -> Prct good predictions=80.0\n",
      "epoch=4 -- batch start=10 -> Prct good predictions=100.0\n",
      "epoch=4 -- batch start=20 -> Prct good predictions=100.0\n",
      "epoch=4 -- batch start=30 -> Prct good predictions=80.0\n",
      "epoch=4 -- batch start=40 -> Prct good predictions=80.0\n",
      "epoch=4 -- batch start=50 -> Prct good predictions=80.0\n",
      "epoch=4 -- batch start=60 -> Prct good predictions=90.0\n",
      "epoch=4 -- batch start=70 -> Prct good predictions=80.0\n",
      "epoch=4 -- batch start=80 -> Prct good predictions=100.0\n",
      "epoch=4 -- batch start=90 -> Prct good predictions=90.0\n",
      "epoch=4 -- batch start=100 -> Prct good predictions=90.0\n",
      "epoch=4 -- batch start=110 -> Prct good predictions=80.0\n",
      "performance finale sur training set =  100.0  %\n"
     ]
    }
   ],
   "source": [
    "print(\"MLP Train for IRIS\")\n",
    "mlp_iris = MLP2()\n",
    "List_PrctGoodPredict_MLP=fit2(mlp_iris,torch_X_train,torch_y_train,EPOCHS=5,BATCH_SIZE = 10 )\n",
    "print (\"performance finale sur training set = \",max(List_PrctGoodPredict),\" %\")"
   ]
  },
  {
   "cell_type": "code",
   "execution_count": 62,
   "metadata": {},
   "outputs": [
    {
     "name": "stdout",
     "output_type": "stream",
     "text": [
      "Performance du MLP2 sur le test set IRIS =  93.33333333333334  %\n"
     ]
    }
   ],
   "source": [
    "List_PrctGoodPredict=[]\n",
    "\n",
    "good_X_test = Variable(torch_X_test.view(-1,1,4,1)).float()\n",
    "y_pred = mlp_iris(good_X_test)\n",
    "    \n",
    "predicted = torch.max(y_pred.data, 1)[1]\n",
    "PrctGoodPredict = (100./torch_X_test.shape[0])*float((predicted == torch_y_test.view(-1)).sum())\n",
    "    \n",
    "print(\"Performance du MLP2 sur le test set IRIS = \",PrctGoodPredict,\" %\") "
   ]
  },
  {
   "cell_type": "markdown",
   "metadata": {},
   "source": [
    "#### Performance du MLP2 sur le IRIS data set : 93%\n",
    "\n",
    "Il faut garder en mémoire que le training set à 120 observations, et le test set 30 observations.\n",
    "Le réseau MLP2 est assez lourd (taille des layers), ce qui semble expliquer à la fois l'overfitting sur le training set, mais malgré tout une bonne performance en généralisation"
   ]
  },
  {
   "cell_type": "markdown",
   "metadata": {},
   "source": [
    "### Regression multi-classe avec SVM"
   ]
  },
  {
   "cell_type": "code",
   "execution_count": 77,
   "metadata": {},
   "outputs": [],
   "source": [
    "from sklearn import preprocessing\n",
    "from sklearn.svm import SVC\n",
    "from sklearn.pipeline import Pipeline\n",
    "import time\n",
    "import pandas as pd"
   ]
  },
  {
   "cell_type": "code",
   "execution_count": 78,
   "metadata": {},
   "outputs": [],
   "source": [
    "norm = preprocessing.Normalizer()   # Normalisation\n",
    "core = SVC(C = 1.0, # coeff régularisation L2\n",
    "           kernel = 'rbf', # Gaussian Kernel, classique, \n",
    "           # https://en.wikipedia.org/wiki/Radial_basis_function_kernel\n",
    "           gamma = 'scale', # choix paramètre du Gaussian Kernel\n",
    "           tol = 0.1,  # tolérance basse pour ne pas trop attendre\n",
    "           class_weight = 'balanced',  # permet d'affecter des poids en fonction de la fréquence des classes.\n",
    "           max_iter = 1000,   # on augmente le nombre d'itérations pour avoir la convergence\n",
    "           decision_function_shape = 'ovr', # one-versus-rest classifiers en multi-classes\n",
    "           verbose = True\n",
    "           )\n",
    "\n",
    "liste_composants = [('Normalisation', norm),\n",
    "                    ('Coeur', core)]\n",
    "\n",
    "modele_svm = Pipeline(liste_composants)"
   ]
  },
  {
   "cell_type": "code",
   "execution_count": 89,
   "metadata": {},
   "outputs": [
    {
     "name": "stdout",
     "output_type": "stream",
     "text": [
      "[LibSVM]Accuracy =  1.0\n"
     ]
    }
   ],
   "source": [
    "modele_svm = modele_svm.fit(X_train, y_train)\n",
    "\n",
    "y_pred = modele_svm.predict(X_test)\n",
    "\n",
    "print (\"Accuracy = \",  modele_svm.score(X_test, y_pred))"
   ]
  },
  {
   "cell_type": "markdown",
   "metadata": {},
   "source": [
    "100% accuracy pour le SVM avec Kernel Gaussien : à vérifier, cela semble haut..."
   ]
  },
  {
   "cell_type": "code",
   "execution_count": 86,
   "metadata": {},
   "outputs": [
    {
     "data": {
      "text/plain": [
       "(30,)"
      ]
     },
     "execution_count": 86,
     "metadata": {},
     "output_type": "execute_result"
    }
   ],
   "source": [
    "y_pred.shape"
   ]
  },
  {
   "cell_type": "code",
   "execution_count": 87,
   "metadata": {},
   "outputs": [
    {
     "data": {
      "text/plain": [
       "(30,)"
      ]
     },
     "execution_count": 87,
     "metadata": {},
     "output_type": "execute_result"
    }
   ],
   "source": [
    "y_test.shape"
   ]
  },
  {
   "cell_type": "markdown",
   "metadata": {},
   "source": [
    "#TO DO: comment on the results."
   ]
  },
  {
   "cell_type": "markdown",
   "metadata": {},
   "source": [
    "QUESTION 6: TO ADDRESS ONLY IF ALL THE PREVIOUS QUESTIONS HAVE BEEN ANSWERED.\n",
    "\n",
    "Study the influence of the EPOCHS and the BATCH_SIZE parameters on the predictions of the neural networks. You may plot your results as functions of EPOCHS and BATCH_SIZE."
   ]
  },
  {
   "cell_type": "code",
   "execution_count": null,
   "metadata": {},
   "outputs": [],
   "source": [
    "#TO DO..."
   ]
  }
 ],
 "metadata": {
  "kernelspec": {
   "display_name": "Python 3",
   "language": "python",
   "name": "python3"
  },
  "language_info": {
   "codemirror_mode": {
    "name": "ipython",
    "version": 3
   },
   "file_extension": ".py",
   "mimetype": "text/x-python",
   "name": "python",
   "nbconvert_exporter": "python",
   "pygments_lexer": "ipython3",
   "version": "3.7.9"
  }
 },
 "nbformat": 4,
 "nbformat_minor": 2
}
